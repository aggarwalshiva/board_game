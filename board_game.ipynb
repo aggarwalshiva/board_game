{
 "cells": [
  {
   "cell_type": "code",
   "execution_count": 130,
   "metadata": {},
   "outputs": [],
   "source": [
    "## Loading libraries\n",
    "import pandas as pd\n",
    "import numpy as np\n",
    "import matplotlib.pyplot as plt\n",
    "import seaborn as sns\n",
    "from sklearn.model_selection import train_test_split"
   ]
  },
  {
   "cell_type": "code",
   "execution_count": 131,
   "metadata": {},
   "outputs": [
    {
     "data": {
      "text/html": [
       "<div>\n",
       "<style scoped>\n",
       "    .dataframe tbody tr th:only-of-type {\n",
       "        vertical-align: middle;\n",
       "    }\n",
       "\n",
       "    .dataframe tbody tr th {\n",
       "        vertical-align: top;\n",
       "    }\n",
       "\n",
       "    .dataframe thead th {\n",
       "        text-align: right;\n",
       "    }\n",
       "</style>\n",
       "<table border=\"1\" class=\"dataframe\">\n",
       "  <thead>\n",
       "    <tr style=\"text-align: right;\">\n",
       "      <th></th>\n",
       "      <th>id</th>\n",
       "      <th>type</th>\n",
       "      <th>name</th>\n",
       "      <th>yearpublished</th>\n",
       "      <th>minplayers</th>\n",
       "      <th>maxplayers</th>\n",
       "      <th>playingtime</th>\n",
       "      <th>minplaytime</th>\n",
       "      <th>maxplaytime</th>\n",
       "      <th>minage</th>\n",
       "      <th>users_rated</th>\n",
       "      <th>average_rating</th>\n",
       "      <th>bayes_average_rating</th>\n",
       "      <th>total_owners</th>\n",
       "      <th>total_traders</th>\n",
       "      <th>total_wanters</th>\n",
       "      <th>total_wishers</th>\n",
       "      <th>total_comments</th>\n",
       "      <th>total_weights</th>\n",
       "      <th>average_weight</th>\n",
       "    </tr>\n",
       "  </thead>\n",
       "  <tbody>\n",
       "    <tr>\n",
       "      <th>0</th>\n",
       "      <td>12333</td>\n",
       "      <td>boardgame</td>\n",
       "      <td>Twilight Struggle</td>\n",
       "      <td>2005</td>\n",
       "      <td>2</td>\n",
       "      <td>2</td>\n",
       "      <td>180</td>\n",
       "      <td>180</td>\n",
       "      <td>180</td>\n",
       "      <td>13</td>\n",
       "      <td>20113</td>\n",
       "      <td>8.33774</td>\n",
       "      <td>8.22186</td>\n",
       "      <td>26647.0</td>\n",
       "      <td>372.0</td>\n",
       "      <td>1219.0</td>\n",
       "      <td>5865.0</td>\n",
       "      <td>5347.0</td>\n",
       "      <td>2562.0</td>\n",
       "      <td>3.4785</td>\n",
       "    </tr>\n",
       "    <tr>\n",
       "      <th>1</th>\n",
       "      <td>120677</td>\n",
       "      <td>boardgame</td>\n",
       "      <td>Terra Mystica</td>\n",
       "      <td>2012</td>\n",
       "      <td>2</td>\n",
       "      <td>5</td>\n",
       "      <td>150</td>\n",
       "      <td>60</td>\n",
       "      <td>150</td>\n",
       "      <td>12</td>\n",
       "      <td>14383</td>\n",
       "      <td>8.28798</td>\n",
       "      <td>8.14232</td>\n",
       "      <td>16519.0</td>\n",
       "      <td>132.0</td>\n",
       "      <td>1586.0</td>\n",
       "      <td>6277.0</td>\n",
       "      <td>2526.0</td>\n",
       "      <td>1423.0</td>\n",
       "      <td>3.8939</td>\n",
       "    </tr>\n",
       "    <tr>\n",
       "      <th>2</th>\n",
       "      <td>102794</td>\n",
       "      <td>boardgame</td>\n",
       "      <td>Caverna: The Cave Farmers</td>\n",
       "      <td>2013</td>\n",
       "      <td>1</td>\n",
       "      <td>7</td>\n",
       "      <td>210</td>\n",
       "      <td>30</td>\n",
       "      <td>210</td>\n",
       "      <td>12</td>\n",
       "      <td>9262</td>\n",
       "      <td>8.28994</td>\n",
       "      <td>8.06886</td>\n",
       "      <td>12230.0</td>\n",
       "      <td>99.0</td>\n",
       "      <td>1476.0</td>\n",
       "      <td>5600.0</td>\n",
       "      <td>1700.0</td>\n",
       "      <td>777.0</td>\n",
       "      <td>3.7761</td>\n",
       "    </tr>\n",
       "    <tr>\n",
       "      <th>3</th>\n",
       "      <td>25613</td>\n",
       "      <td>boardgame</td>\n",
       "      <td>Through the Ages: A Story of Civilization</td>\n",
       "      <td>2006</td>\n",
       "      <td>2</td>\n",
       "      <td>4</td>\n",
       "      <td>240</td>\n",
       "      <td>240</td>\n",
       "      <td>240</td>\n",
       "      <td>12</td>\n",
       "      <td>13294</td>\n",
       "      <td>8.20407</td>\n",
       "      <td>8.05804</td>\n",
       "      <td>14343.0</td>\n",
       "      <td>362.0</td>\n",
       "      <td>1084.0</td>\n",
       "      <td>5075.0</td>\n",
       "      <td>3378.0</td>\n",
       "      <td>1642.0</td>\n",
       "      <td>4.1590</td>\n",
       "    </tr>\n",
       "    <tr>\n",
       "      <th>4</th>\n",
       "      <td>3076</td>\n",
       "      <td>boardgame</td>\n",
       "      <td>Puerto Rico</td>\n",
       "      <td>2002</td>\n",
       "      <td>2</td>\n",
       "      <td>5</td>\n",
       "      <td>150</td>\n",
       "      <td>90</td>\n",
       "      <td>150</td>\n",
       "      <td>12</td>\n",
       "      <td>39883</td>\n",
       "      <td>8.14261</td>\n",
       "      <td>8.04524</td>\n",
       "      <td>44362.0</td>\n",
       "      <td>795.0</td>\n",
       "      <td>861.0</td>\n",
       "      <td>5414.0</td>\n",
       "      <td>9173.0</td>\n",
       "      <td>5213.0</td>\n",
       "      <td>3.2943</td>\n",
       "    </tr>\n",
       "  </tbody>\n",
       "</table>\n",
       "</div>"
      ],
      "text/plain": [
       "       id       type                                       name  \\\n",
       "0   12333  boardgame                          Twilight Struggle   \n",
       "1  120677  boardgame                              Terra Mystica   \n",
       "2  102794  boardgame                  Caverna: The Cave Farmers   \n",
       "3   25613  boardgame  Through the Ages: A Story of Civilization   \n",
       "4    3076  boardgame                                Puerto Rico   \n",
       "\n",
       "   yearpublished  minplayers  maxplayers  playingtime  minplaytime  \\\n",
       "0           2005           2           2          180          180   \n",
       "1           2012           2           5          150           60   \n",
       "2           2013           1           7          210           30   \n",
       "3           2006           2           4          240          240   \n",
       "4           2002           2           5          150           90   \n",
       "\n",
       "   maxplaytime  minage  users_rated  average_rating  bayes_average_rating  \\\n",
       "0          180      13        20113         8.33774               8.22186   \n",
       "1          150      12        14383         8.28798               8.14232   \n",
       "2          210      12         9262         8.28994               8.06886   \n",
       "3          240      12        13294         8.20407               8.05804   \n",
       "4          150      12        39883         8.14261               8.04524   \n",
       "\n",
       "   total_owners  total_traders  total_wanters  total_wishers  total_comments  \\\n",
       "0       26647.0          372.0         1219.0         5865.0          5347.0   \n",
       "1       16519.0          132.0         1586.0         6277.0          2526.0   \n",
       "2       12230.0           99.0         1476.0         5600.0          1700.0   \n",
       "3       14343.0          362.0         1084.0         5075.0          3378.0   \n",
       "4       44362.0          795.0          861.0         5414.0          9173.0   \n",
       "\n",
       "   total_weights  average_weight  \n",
       "0         2562.0          3.4785  \n",
       "1         1423.0          3.8939  \n",
       "2          777.0          3.7761  \n",
       "3         1642.0          4.1590  \n",
       "4         5213.0          3.2943  "
      ]
     },
     "execution_count": 131,
     "metadata": {},
     "output_type": "execute_result"
    }
   ],
   "source": [
    "data = pd.read_csv(\"gamess.csv\")\n",
    "data.head()"
   ]
  },
  {
   "cell_type": "code",
   "execution_count": 132,
   "metadata": {},
   "outputs": [
    {
     "data": {
      "text/plain": [
       "(41031, 20)"
      ]
     },
     "execution_count": 132,
     "metadata": {},
     "output_type": "execute_result"
    }
   ],
   "source": [
    "data.shape"
   ]
  },
  {
   "cell_type": "code",
   "execution_count": 133,
   "metadata": {},
   "outputs": [
    {
     "data": {
      "text/html": [
       "<div>\n",
       "<style scoped>\n",
       "    .dataframe tbody tr th:only-of-type {\n",
       "        vertical-align: middle;\n",
       "    }\n",
       "\n",
       "    .dataframe tbody tr th {\n",
       "        vertical-align: top;\n",
       "    }\n",
       "\n",
       "    .dataframe thead th {\n",
       "        text-align: right;\n",
       "    }\n",
       "</style>\n",
       "<table border=\"1\" class=\"dataframe\">\n",
       "  <thead>\n",
       "    <tr style=\"text-align: right;\">\n",
       "      <th></th>\n",
       "      <th>id</th>\n",
       "      <th>yearpublished</th>\n",
       "      <th>minplayers</th>\n",
       "      <th>maxplayers</th>\n",
       "      <th>playingtime</th>\n",
       "      <th>minplaytime</th>\n",
       "      <th>maxplaytime</th>\n",
       "      <th>minage</th>\n",
       "      <th>users_rated</th>\n",
       "      <th>average_rating</th>\n",
       "      <th>bayes_average_rating</th>\n",
       "      <th>total_owners</th>\n",
       "      <th>total_traders</th>\n",
       "      <th>total_wanters</th>\n",
       "      <th>total_wishers</th>\n",
       "      <th>total_comments</th>\n",
       "      <th>total_weights</th>\n",
       "      <th>average_weight</th>\n",
       "    </tr>\n",
       "  </thead>\n",
       "  <tbody>\n",
       "    <tr>\n",
       "      <th>count</th>\n",
       "      <td>41031.000000</td>\n",
       "      <td>41031.000000</td>\n",
       "      <td>41031.000000</td>\n",
       "      <td>41031.000000</td>\n",
       "      <td>41031.000000</td>\n",
       "      <td>41031.000000</td>\n",
       "      <td>41031.000000</td>\n",
       "      <td>41031.000000</td>\n",
       "      <td>41031.000000</td>\n",
       "      <td>41031.000000</td>\n",
       "      <td>41030.000000</td>\n",
       "      <td>41030.000000</td>\n",
       "      <td>41030.000000</td>\n",
       "      <td>41030.000000</td>\n",
       "      <td>41030.000000</td>\n",
       "      <td>41030.000000</td>\n",
       "      <td>41030.000000</td>\n",
       "      <td>41030.000000</td>\n",
       "    </tr>\n",
       "    <tr>\n",
       "      <th>mean</th>\n",
       "      <td>28977.342302</td>\n",
       "      <td>1864.237771</td>\n",
       "      <td>2.031025</td>\n",
       "      <td>5.459531</td>\n",
       "      <td>60.985572</td>\n",
       "      <td>59.116205</td>\n",
       "      <td>60.985572</td>\n",
       "      <td>6.926129</td>\n",
       "      <td>304.687115</td>\n",
       "      <td>4.748838</td>\n",
       "      <td>1.999443</td>\n",
       "      <td>453.382208</td>\n",
       "      <td>16.801633</td>\n",
       "      <td>21.637144</td>\n",
       "      <td>74.435608</td>\n",
       "      <td>92.301414</td>\n",
       "      <td>31.415696</td>\n",
       "      <td>1.199730</td>\n",
       "    </tr>\n",
       "    <tr>\n",
       "      <th>std</th>\n",
       "      <td>32802.112144</td>\n",
       "      <td>493.775150</td>\n",
       "      <td>0.906412</td>\n",
       "      <td>58.626117</td>\n",
       "      <td>356.912031</td>\n",
       "      <td>344.698507</td>\n",
       "      <td>356.912031</td>\n",
       "      <td>4.984414</td>\n",
       "      <td>1593.210424</td>\n",
       "      <td>2.541983</td>\n",
       "      <td>2.787165</td>\n",
       "      <td>2056.575758</td>\n",
       "      <td>54.420463</td>\n",
       "      <td>83.114447</td>\n",
       "      <td>329.687936</td>\n",
       "      <td>394.699391</td>\n",
       "      <td>161.639757</td>\n",
       "      <td>1.197742</td>\n",
       "    </tr>\n",
       "    <tr>\n",
       "      <th>min</th>\n",
       "      <td>1.000000</td>\n",
       "      <td>-3500.000000</td>\n",
       "      <td>0.000000</td>\n",
       "      <td>0.000000</td>\n",
       "      <td>0.000000</td>\n",
       "      <td>0.000000</td>\n",
       "      <td>0.000000</td>\n",
       "      <td>0.000000</td>\n",
       "      <td>0.000000</td>\n",
       "      <td>0.000000</td>\n",
       "      <td>0.000000</td>\n",
       "      <td>0.000000</td>\n",
       "      <td>0.000000</td>\n",
       "      <td>0.000000</td>\n",
       "      <td>0.000000</td>\n",
       "      <td>0.000000</td>\n",
       "      <td>0.000000</td>\n",
       "      <td>0.000000</td>\n",
       "    </tr>\n",
       "    <tr>\n",
       "      <th>25%</th>\n",
       "      <td>10570.500000</td>\n",
       "      <td>1982.000000</td>\n",
       "      <td>2.000000</td>\n",
       "      <td>2.000000</td>\n",
       "      <td>10.000000</td>\n",
       "      <td>10.000000</td>\n",
       "      <td>10.000000</td>\n",
       "      <td>0.000000</td>\n",
       "      <td>1.000000</td>\n",
       "      <td>3.800000</td>\n",
       "      <td>0.000000</td>\n",
       "      <td>4.000000</td>\n",
       "      <td>0.000000</td>\n",
       "      <td>0.000000</td>\n",
       "      <td>0.000000</td>\n",
       "      <td>1.000000</td>\n",
       "      <td>0.000000</td>\n",
       "      <td>0.000000</td>\n",
       "    </tr>\n",
       "    <tr>\n",
       "      <th>50%</th>\n",
       "      <td>21532.000000</td>\n",
       "      <td>1998.000000</td>\n",
       "      <td>2.000000</td>\n",
       "      <td>4.000000</td>\n",
       "      <td>30.000000</td>\n",
       "      <td>30.000000</td>\n",
       "      <td>30.000000</td>\n",
       "      <td>8.000000</td>\n",
       "      <td>7.000000</td>\n",
       "      <td>5.568380</td>\n",
       "      <td>0.000000</td>\n",
       "      <td>19.000000</td>\n",
       "      <td>1.000000</td>\n",
       "      <td>1.000000</td>\n",
       "      <td>2.000000</td>\n",
       "      <td>4.000000</td>\n",
       "      <td>1.000000</td>\n",
       "      <td>1.000000</td>\n",
       "    </tr>\n",
       "    <tr>\n",
       "      <th>75%</th>\n",
       "      <td>32355.500000</td>\n",
       "      <td>2005.000000</td>\n",
       "      <td>2.000000</td>\n",
       "      <td>6.000000</td>\n",
       "      <td>60.000000</td>\n",
       "      <td>60.000000</td>\n",
       "      <td>60.000000</td>\n",
       "      <td>12.000000</td>\n",
       "      <td>62.000000</td>\n",
       "      <td>6.582325</td>\n",
       "      <td>5.533720</td>\n",
       "      <td>158.000000</td>\n",
       "      <td>8.000000</td>\n",
       "      <td>6.000000</td>\n",
       "      <td>15.000000</td>\n",
       "      <td>29.000000</td>\n",
       "      <td>8.000000</td>\n",
       "      <td>2.000000</td>\n",
       "    </tr>\n",
       "    <tr>\n",
       "      <th>max</th>\n",
       "      <td>183880.000000</td>\n",
       "      <td>2016.000000</td>\n",
       "      <td>40.000000</td>\n",
       "      <td>11299.000000</td>\n",
       "      <td>60000.000000</td>\n",
       "      <td>60000.000000</td>\n",
       "      <td>60000.000000</td>\n",
       "      <td>90.000000</td>\n",
       "      <td>53680.000000</td>\n",
       "      <td>10.000000</td>\n",
       "      <td>8.221860</td>\n",
       "      <td>73188.000000</td>\n",
       "      <td>1395.000000</td>\n",
       "      <td>1586.000000</td>\n",
       "      <td>6402.000000</td>\n",
       "      <td>11798.000000</td>\n",
       "      <td>5996.000000</td>\n",
       "      <td>5.000000</td>\n",
       "    </tr>\n",
       "  </tbody>\n",
       "</table>\n",
       "</div>"
      ],
      "text/plain": [
       "                  id  yearpublished    minplayers    maxplayers   playingtime  \\\n",
       "count   41031.000000   41031.000000  41031.000000  41031.000000  41031.000000   \n",
       "mean    28977.342302    1864.237771      2.031025      5.459531     60.985572   \n",
       "std     32802.112144     493.775150      0.906412     58.626117    356.912031   \n",
       "min         1.000000   -3500.000000      0.000000      0.000000      0.000000   \n",
       "25%     10570.500000    1982.000000      2.000000      2.000000     10.000000   \n",
       "50%     21532.000000    1998.000000      2.000000      4.000000     30.000000   \n",
       "75%     32355.500000    2005.000000      2.000000      6.000000     60.000000   \n",
       "max    183880.000000    2016.000000     40.000000  11299.000000  60000.000000   \n",
       "\n",
       "        minplaytime   maxplaytime        minage   users_rated  average_rating  \\\n",
       "count  41031.000000  41031.000000  41031.000000  41031.000000    41031.000000   \n",
       "mean      59.116205     60.985572      6.926129    304.687115        4.748838   \n",
       "std      344.698507    356.912031      4.984414   1593.210424        2.541983   \n",
       "min        0.000000      0.000000      0.000000      0.000000        0.000000   \n",
       "25%       10.000000     10.000000      0.000000      1.000000        3.800000   \n",
       "50%       30.000000     30.000000      8.000000      7.000000        5.568380   \n",
       "75%       60.000000     60.000000     12.000000     62.000000        6.582325   \n",
       "max    60000.000000  60000.000000     90.000000  53680.000000       10.000000   \n",
       "\n",
       "       bayes_average_rating  total_owners  total_traders  total_wanters  \\\n",
       "count          41030.000000  41030.000000   41030.000000   41030.000000   \n",
       "mean               1.999443    453.382208      16.801633      21.637144   \n",
       "std                2.787165   2056.575758      54.420463      83.114447   \n",
       "min                0.000000      0.000000       0.000000       0.000000   \n",
       "25%                0.000000      4.000000       0.000000       0.000000   \n",
       "50%                0.000000     19.000000       1.000000       1.000000   \n",
       "75%                5.533720    158.000000       8.000000       6.000000   \n",
       "max                8.221860  73188.000000    1395.000000    1586.000000   \n",
       "\n",
       "       total_wishers  total_comments  total_weights  average_weight  \n",
       "count   41030.000000    41030.000000   41030.000000    41030.000000  \n",
       "mean       74.435608       92.301414      31.415696        1.199730  \n",
       "std       329.687936      394.699391     161.639757        1.197742  \n",
       "min         0.000000        0.000000       0.000000        0.000000  \n",
       "25%         0.000000        1.000000       0.000000        0.000000  \n",
       "50%         2.000000        4.000000       1.000000        1.000000  \n",
       "75%        15.000000       29.000000       8.000000        2.000000  \n",
       "max      6402.000000    11798.000000    5996.000000        5.000000  "
      ]
     },
     "execution_count": 133,
     "metadata": {},
     "output_type": "execute_result"
    }
   ],
   "source": [
    "data.describe()"
   ]
  },
  {
   "cell_type": "code",
   "execution_count": 134,
   "metadata": {},
   "outputs": [
    {
     "name": "stdout",
     "output_type": "stream",
     "text": [
      "<class 'pandas.core.frame.DataFrame'>\n",
      "RangeIndex: 41031 entries, 0 to 41030\n",
      "Data columns (total 20 columns):\n",
      "id                      41031 non-null int64\n",
      "type                    41031 non-null object\n",
      "name                    41029 non-null object\n",
      "yearpublished           41031 non-null int64\n",
      "minplayers              41031 non-null int64\n",
      "maxplayers              41031 non-null int64\n",
      "playingtime             41031 non-null int64\n",
      "minplaytime             41031 non-null int64\n",
      "maxplaytime             41031 non-null int64\n",
      "minage                  41031 non-null int64\n",
      "users_rated             41031 non-null int64\n",
      "average_rating          41031 non-null float64\n",
      "bayes_average_rating    41030 non-null float64\n",
      "total_owners            41030 non-null float64\n",
      "total_traders           41030 non-null float64\n",
      "total_wanters           41030 non-null float64\n",
      "total_wishers           41030 non-null float64\n",
      "total_comments          41030 non-null float64\n",
      "total_weights           41030 non-null float64\n",
      "average_weight          41030 non-null float64\n",
      "dtypes: float64(9), int64(9), object(2)\n",
      "memory usage: 6.3+ MB\n"
     ]
    }
   ],
   "source": [
    "data.info()"
   ]
  },
  {
   "cell_type": "code",
   "execution_count": 135,
   "metadata": {},
   "outputs": [
    {
     "data": {
      "image/png": "[encoded data removed]",
      "text/plain": [
       "<Figure size 1080x1080 with 20 Axes>"
      ]
     },
     "metadata": {
      "needs_background": "light"
     },
     "output_type": "display_data"
    }
   ],
   "source": [
    "data.hist(figsize=(15,15))\n",
    "plt.show()"
   ]
  },
  {
   "cell_type": "code",
   "execution_count": 136,
   "metadata": {},
   "outputs": [
    {
     "name": "stdout",
     "output_type": "stream",
     "text": [
      "id                             318\n",
      "type                     boardgame\n",
      "name                    Looney Leo\n",
      "yearpublished                    0\n",
      "minplayers                       0\n",
      "maxplayers                       0\n",
      "playingtime                      0\n",
      "minplaytime                      0\n",
      "maxplaytime                      0\n",
      "minage                           0\n",
      "users_rated                      0\n",
      "average_rating                   0\n",
      "bayes_average_rating             0\n",
      "total_owners                     0\n",
      "total_traders                    0\n",
      "total_wanters                    0\n",
      "total_wishers                    1\n",
      "total_comments                   0\n",
      "total_weights                    0\n",
      "average_weight                   0\n",
      "Name: 13048, dtype: object\n",
      "id                                  12333\n",
      "type                            boardgame\n",
      "name                    Twilight Struggle\n",
      "yearpublished                        2005\n",
      "minplayers                              2\n",
      "maxplayers                              2\n",
      "playingtime                           180\n",
      "minplaytime                           180\n",
      "maxplaytime                           180\n",
      "minage                                 13\n",
      "users_rated                         20113\n",
      "average_rating                    8.33774\n",
      "bayes_average_rating              8.22186\n",
      "total_owners                        26647\n",
      "total_traders                         372\n",
      "total_wanters                        1219\n",
      "total_wishers                        5865\n",
      "total_comments                       5347\n",
      "total_weights                        2562\n",
      "average_weight                     3.4785\n",
      "Name: 0, dtype: object\n"
     ]
    }
   ],
   "source": [
    "## Print the first row of all the games  with zero score\n",
    "print(data[data['average_rating']==0].iloc[0])\n",
    "\n",
    "## Print the first row of games with scores greater than zeroes\n",
    "print(data[data['average_rating'] >0].iloc[0])"
   ]
  },
  {
   "cell_type": "code",
   "execution_count": 137,
   "metadata": {},
   "outputs": [
    {
     "data": {
      "image/png": "[encoded data removed]",
      "text/plain": [
       "<Figure size 432x288 with 1 Axes>"
      ]
     },
     "metadata": {
      "needs_background": "light"
     },
     "output_type": "display_data"
    }
   ],
   "source": [
    "## Remove any row without user reviews\n",
    "data = data[data['users_rated']>0]\n",
    "\n",
    "## Remove any rows with missing values\n",
    "\n",
    "data = data.dropna(axis=0)\n",
    "\n",
    "## MAke a histogram of all the average ratings\n",
    "plt.hist(data['average_rating'])\n",
    "plt.show()"
   ]
  },
  {
   "cell_type": "code",
   "execution_count": 138,
   "metadata": {},
   "outputs": [
    {
     "data": {
      "text/plain": [
       "<matplotlib.axes._subplots.AxesSubplot at 0x1d488a89208>"
      ]
     },
     "execution_count": 138,
     "metadata": {},
     "output_type": "execute_result"
    },
    {
     "data": {
      "image/png": "[encoded data removed]",
      "text/plain": [
       "<Figure size 1080x1080 with 2 Axes>"
      ]
     },
     "metadata": {
      "needs_background": "light"
     },
     "output_type": "display_data"
    }
   ],
   "source": [
    "### Correlation \n",
    "\n",
    "f ,ax = plt.subplots(figsize = (15,15))\n",
    "\n",
    "corr = data.corr()\n",
    "\n",
    "sns.heatmap(corr,mask=np.zeros_like(corr,dtype = np.bool),cmap=sns.diverging_palette(220, 10, as_cmap=True),\n",
    "            square=True, annot = False,ax=ax)"
   ]
  },
  {
   "cell_type": "code",
   "execution_count": 139,
   "metadata": {},
   "outputs": [],
   "source": [
    "## Get all the columns from the dataframe\n",
    "columns = data.columns.tolist()\n",
    "\n",
    "## Filter the columns we donot want\n",
    "columns = [c for c in columns if c not in ['id','average_rating','name','type','bayes_average_rating']]\n",
    "\n",
    "## Store the variable we are predicating on\n",
    "\n",
    "target = 'average_rating'\n",
    "\n"
   ]
  },
  {
   "cell_type": "code",
   "execution_count": 140,
   "metadata": {},
   "outputs": [],
   "source": [
    "### Split into trainig and testing data\n",
    "train = data.sample(frac=0.8,random_state=1)\n",
    "\n",
    "test = data.loc[~data.index.isin(train.index)]"
   ]
  },
  {
   "cell_type": "code",
   "execution_count": 141,
   "metadata": {},
   "outputs": [],
   "source": [
    "X = train[columns]\n",
    "Y = train[target]"
   ]
  },
  {
   "cell_type": "code",
   "execution_count": 142,
   "metadata": {},
   "outputs": [],
   "source": [
    "##Linear Regression\n",
    "import statsmodels.api as sm\n",
    "from sklearn.linear_model import LinearRegression"
   ]
  },
  {
   "cell_type": "code",
   "execution_count": 143,
   "metadata": {},
   "outputs": [],
   "source": [
    "X = sm.add_constant(X)\n",
    "\n",
    "model = sm.OLS(Y,X).fit()"
   ]
  },
  {
   "cell_type": "code",
   "execution_count": 144,
   "metadata": {},
   "outputs": [
    {
     "name": "stdout",
     "output_type": "stream",
     "text": [
      "                            OLS Regression Results                            \n",
      "==============================================================================\n",
      "Dep. Variable:         average_rating   R-squared:                       0.266\n",
      "Model:                            OLS   Adj. R-squared:                  0.266\n",
      "Method:                 Least Squares   F-statistic:                     699.1\n",
      "Date:                Tue, 04 Jun 2019   Prob (F-statistic):               0.00\n",
      "Time:                        18:25:24   Log-Likelihood:                -43276.\n",
      "No. Observations:               27022   AIC:                         8.658e+04\n",
      "Df Residuals:                   27007   BIC:                         8.670e+04\n",
      "Df Model:                          14                                         \n",
      "Covariance Type:            nonrobust                                         \n",
      "==================================================================================\n",
      "                     coef    std err          t      P>|t|      [0.025      0.975]\n",
      "----------------------------------------------------------------------------------\n",
      "const              4.5680      0.039    117.381      0.000       4.492       4.644\n",
      "yearpublished      0.0001   1.72e-05      7.950      0.000       0.000       0.000\n",
      "minplayers         0.0375      0.010      3.829      0.000       0.018       0.057\n",
      "maxplayers        -0.0001      0.000     -1.165      0.244      -0.000    8.26e-05\n",
      "playingtime     2.217e-05   3.27e-05      0.679      0.497   -4.18e-05    8.62e-05\n",
      "minplaytime    -1.654e-05   6.76e-05     -0.245      0.807      -0.000       0.000\n",
      "maxplaytime     2.217e-05   3.27e-05      0.679      0.497   -4.18e-05    8.62e-05\n",
      "minage             0.0124      0.002      7.357      0.000       0.009       0.016\n",
      "users_rated       -0.0005   4.55e-05    -11.508      0.000      -0.001      -0.000\n",
      "total_owners       0.0003    2.2e-05     15.101      0.000       0.000       0.000\n",
      "total_traders     -0.0012      0.000     -4.124      0.000      -0.002      -0.001\n",
      "total_wanters      0.0053      0.000     13.538      0.000       0.005       0.006\n",
      "total_wishers     -0.0008      0.000     -7.006      0.000      -0.001      -0.001\n",
      "total_comments     0.0007      0.000      4.740      0.000       0.000       0.001\n",
      "total_weights      0.0001      0.000      0.444      0.657      -0.000       0.001\n",
      "average_weight     0.4555      0.007     64.182      0.000       0.442       0.469\n",
      "==============================================================================\n",
      "Omnibus:                     1234.477   Durbin-Watson:                   1.986\n",
      "Prob(Omnibus):                  0.000   Jarque-Bera (JB):             2369.859\n",
      "Skew:                          -0.345   Prob(JB):                         0.00\n",
      "Kurtosis:                       4.276   Cond. No.                     4.21e+15\n",
      "==============================================================================\n",
      "\n",
      "Warnings:\n",
      "[1] Standard Errors assume that the covariance matrix of the errors is correctly specified.\n",
      "[2] The smallest eigenvalue is 1.32e-20. This might indicate that there are\n",
      "strong multicollinearity problems or that the design matrix is singular.\n"
     ]
    }
   ],
   "source": [
    "print(model.summary())"
   ]
  },
  {
   "cell_type": "code",
   "execution_count": 145,
   "metadata": {},
   "outputs": [
    {
     "name": "stdout",
     "output_type": "stream",
     "text": [
      "                            OLS Regression Results                            \n",
      "==============================================================================\n",
      "Dep. Variable:         average_rating   R-squared:                       0.266\n",
      "Model:                            OLS   Adj. R-squared:                  0.266\n",
      "Method:                 Least Squares   F-statistic:                     752.9\n",
      "Date:                Tue, 04 Jun 2019   Prob (F-statistic):               0.00\n",
      "Time:                        18:25:29   Log-Likelihood:                -43276.\n",
      "No. Observations:               27022   AIC:                         8.658e+04\n",
      "Df Residuals:                   27008   BIC:                         8.669e+04\n",
      "Df Model:                          13                                         \n",
      "Covariance Type:            nonrobust                                         \n",
      "==================================================================================\n",
      "                     coef    std err          t      P>|t|      [0.025      0.975]\n",
      "----------------------------------------------------------------------------------\n",
      "const              4.5680      0.039    117.383      0.000       4.492       4.644\n",
      "yearpublished      0.0001   1.72e-05      7.951      0.000       0.000       0.000\n",
      "minplayers         0.0375      0.010      3.826      0.000       0.018       0.057\n",
      "maxplayers        -0.0001      0.000     -1.165      0.244      -0.000    8.26e-05\n",
      "playingtime     2.892e-05   1.71e-05      1.694      0.090   -4.54e-06    6.24e-05\n",
      "minage             0.0124      0.002      7.357      0.000       0.009       0.016\n",
      "users_rated       -0.0005   4.54e-05    -11.549      0.000      -0.001      -0.000\n",
      "total_owners       0.0003    2.2e-05     15.119      0.000       0.000       0.000\n",
      "total_traders     -0.0012      0.000     -4.132      0.000      -0.002      -0.001\n",
      "total_wanters      0.0053      0.000     13.537      0.000       0.005       0.006\n",
      "total_wishers     -0.0008      0.000     -7.001      0.000      -0.001      -0.001\n",
      "total_comments     0.0007      0.000      4.749      0.000       0.000       0.001\n",
      "total_weights      0.0001      0.000      0.454      0.650      -0.000       0.001\n",
      "average_weight     0.4555      0.007     64.183      0.000       0.442       0.469\n",
      "==============================================================================\n",
      "Omnibus:                     1234.919   Durbin-Watson:                   1.986\n",
      "Prob(Omnibus):                  0.000   Jarque-Bera (JB):             2370.901\n",
      "Skew:                          -0.345   Prob(JB):                         0.00\n",
      "Kurtosis:                       4.276   Cond. No.                     1.58e+04\n",
      "==============================================================================\n",
      "\n",
      "Warnings:\n",
      "[1] Standard Errors assume that the covariance matrix of the errors is correctly specified.\n",
      "[2] The condition number is large, 1.58e+04. This might indicate that there are\n",
      "strong multicollinearity or other numerical problems.\n"
     ]
    }
   ],
   "source": [
    "columns = [c for c in columns if c not in ['minplaytime','maxplaytime']]\n",
    "X = train[columns]\n",
    "Y = train[target]\n",
    "X = sm.add_constant(X)\n",
    "\n",
    "model_1 = sm.OLS(Y,X).fit()\n",
    "print(model_1.summary())"
   ]
  },
  {
   "cell_type": "code",
   "execution_count": 146,
   "metadata": {},
   "outputs": [
    {
     "name": "stdout",
     "output_type": "stream",
     "text": [
      "                            OLS Regression Results                            \n",
      "==============================================================================\n",
      "Dep. Variable:         average_rating   R-squared:                       0.266\n",
      "Model:                            OLS   Adj. R-squared:                  0.266\n",
      "Method:                 Least Squares   F-statistic:                     815.7\n",
      "Date:                Tue, 04 Jun 2019   Prob (F-statistic):               0.00\n",
      "Time:                        18:25:33   Log-Likelihood:                -43276.\n",
      "No. Observations:               27022   AIC:                         8.658e+04\n",
      "Df Residuals:                   27009   BIC:                         8.668e+04\n",
      "Df Model:                          12                                         \n",
      "Covariance Type:            nonrobust                                         \n",
      "==================================================================================\n",
      "                     coef    std err          t      P>|t|      [0.025      0.975]\n",
      "----------------------------------------------------------------------------------\n",
      "const              4.5678      0.039    117.386      0.000       4.492       4.644\n",
      "yearpublished      0.0001   1.72e-05      7.952      0.000       0.000       0.000\n",
      "minplayers         0.0373      0.010      3.813      0.000       0.018       0.056\n",
      "maxplayers        -0.0001      0.000     -1.165      0.244      -0.000    8.25e-05\n",
      "playingtime     2.916e-05   1.71e-05      1.709      0.087   -4.29e-06    6.26e-05\n",
      "minage             0.0124      0.002      7.363      0.000       0.009       0.016\n",
      "users_rated       -0.0005   4.24e-05    -12.189      0.000      -0.001      -0.000\n",
      "total_owners       0.0003   2.12e-05     15.590      0.000       0.000       0.000\n",
      "total_traders     -0.0013      0.000     -4.300      0.000      -0.002      -0.001\n",
      "total_wanters      0.0053      0.000     13.764      0.000       0.005       0.006\n",
      "total_wishers     -0.0008      0.000     -7.007      0.000      -0.001      -0.001\n",
      "total_comments     0.0007      0.000      5.933      0.000       0.000       0.001\n",
      "average_weight     0.4558      0.007     64.677      0.000       0.442       0.470\n",
      "==============================================================================\n",
      "Omnibus:                     1234.671   Durbin-Watson:                   1.986\n",
      "Prob(Omnibus):                  0.000   Jarque-Bera (JB):             2371.214\n",
      "Skew:                          -0.345   Prob(JB):                         0.00\n",
      "Kurtosis:                       4.276   Cond. No.                     1.58e+04\n",
      "==============================================================================\n",
      "\n",
      "Warnings:\n",
      "[1] Standard Errors assume that the covariance matrix of the errors is correctly specified.\n",
      "[2] The condition number is large, 1.58e+04. This might indicate that there are\n",
      "strong multicollinearity or other numerical problems.\n"
     ]
    }
   ],
   "source": [
    "columns = [c for c in columns if c not in ['total_weights']]\n",
    "X = train[columns]\n",
    "Y = train[target]\n",
    "X = sm.add_constant(X)\n",
    "\n",
    "model_2 = sm.OLS(Y,X).fit()\n",
    "print(model_2.summary())"
   ]
  },
  {
   "cell_type": "code",
   "execution_count": 147,
   "metadata": {},
   "outputs": [
    {
     "name": "stdout",
     "output_type": "stream",
     "text": [
      "                            OLS Regression Results                            \n",
      "==============================================================================\n",
      "Dep. Variable:         average_rating   R-squared:                       0.266\n",
      "Model:                            OLS   Adj. R-squared:                  0.266\n",
      "Method:                 Least Squares   F-statistic:                     889.7\n",
      "Date:                Tue, 04 Jun 2019   Prob (F-statistic):               0.00\n",
      "Time:                        18:25:37   Log-Likelihood:                -43277.\n",
      "No. Observations:               27022   AIC:                         8.658e+04\n",
      "Df Residuals:                   27010   BIC:                         8.668e+04\n",
      "Df Model:                          11                                         \n",
      "Covariance Type:            nonrobust                                         \n",
      "==================================================================================\n",
      "                     coef    std err          t      P>|t|      [0.025      0.975]\n",
      "----------------------------------------------------------------------------------\n",
      "const              4.5675      0.039    117.380      0.000       4.491       4.644\n",
      "yearpublished      0.0001   1.72e-05      7.947      0.000       0.000       0.000\n",
      "minplayers         0.0371      0.010      3.793      0.000       0.018       0.056\n",
      "playingtime     2.916e-05   1.71e-05      1.709      0.087   -4.28e-06    6.26e-05\n",
      "minage             0.0125      0.002      7.371      0.000       0.009       0.016\n",
      "users_rated       -0.0005   4.24e-05    -12.188      0.000      -0.001      -0.000\n",
      "total_owners       0.0003   2.12e-05     15.589      0.000       0.000       0.000\n",
      "total_traders     -0.0013      0.000     -4.299      0.000      -0.002      -0.001\n",
      "total_wanters      0.0053      0.000     13.765      0.000       0.005       0.006\n",
      "total_wishers     -0.0008      0.000     -7.009      0.000      -0.001      -0.001\n",
      "total_comments     0.0007      0.000      5.932      0.000       0.000       0.001\n",
      "average_weight     0.4559      0.007     64.688      0.000       0.442       0.470\n",
      "==============================================================================\n",
      "Omnibus:                     1234.503   Durbin-Watson:                   1.986\n",
      "Prob(Omnibus):                  0.000   Jarque-Bera (JB):             2371.142\n",
      "Skew:                          -0.345   Prob(JB):                         0.00\n",
      "Kurtosis:                       4.277   Cond. No.                     1.58e+04\n",
      "==============================================================================\n",
      "\n",
      "Warnings:\n",
      "[1] Standard Errors assume that the covariance matrix of the errors is correctly specified.\n",
      "[2] The condition number is large, 1.58e+04. This might indicate that there are\n",
      "strong multicollinearity or other numerical problems.\n"
     ]
    }
   ],
   "source": [
    "columns = [c for c in columns if c not in ['maxplayers']]\n",
    "X = train[columns]\n",
    "Y = train[target]\n",
    "X = sm.add_constant(X)\n",
    "\n",
    "model_3 = sm.OLS(Y,X).fit()\n",
    "print(model_3.summary())"
   ]
  },
  {
   "cell_type": "markdown",
   "metadata": {},
   "source": [
    "### Our linear model is not going to fit, we can see from heat map our independent variables are not linear with dependent variable"
   ]
  },
  {
   "cell_type": "code",
   "execution_count": 148,
   "metadata": {},
   "outputs": [],
   "source": [
    "### Random Forest Regressor\n",
    "from sklearn.feature_selection import SelectFromModel\n",
    "from sklearn.ensemble import RandomForestRegressor"
   ]
  },
  {
   "cell_type": "code",
   "execution_count": 149,
   "metadata": {},
   "outputs": [],
   "source": [
    "## filter out columns\n",
    "\n",
    "cols = data.columns.tolist()\n",
    "cols = [c for c in cols if c not in ['id','name','type','average_rating','bayes_average_rating']]\n",
    "target ='average_rating'"
   ]
  },
  {
   "cell_type": "code",
   "execution_count": 150,
   "metadata": {},
   "outputs": [],
   "source": [
    "x = train[cols]\n",
    "y=train[target]\n",
    "\n",
    "x_test = test[cols]\n",
    "y_test = test[target]"
   ]
  },
  {
   "cell_type": "code",
   "execution_count": 151,
   "metadata": {},
   "outputs": [
    {
     "data": {
      "text/plain": [
       "RandomForestRegressor(bootstrap=True, criterion='mse', max_depth=None,\n",
       "           max_features='auto', max_leaf_nodes=None,\n",
       "           min_impurity_decrease=0.0, min_impurity_split=None,\n",
       "           min_samples_leaf=1, min_samples_split=2,\n",
       "           min_weight_fraction_leaf=0.0, n_estimators=100, n_jobs=None,\n",
       "           oob_score=False, random_state=12345, verbose=0,\n",
       "           warm_start=False)"
      ]
     },
     "execution_count": 151,
     "metadata": {},
     "output_type": "execute_result"
    }
   ],
   "source": [
    "RFR = RandomForestRegressor(n_estimators =100 ,random_state=12345)\n",
    "RFR.fit(x,y)"
   ]
  },
  {
   "cell_type": "code",
   "execution_count": 152,
   "metadata": {},
   "outputs": [],
   "source": [
    "predict_test = RFR.predict(x_test)"
   ]
  },
  {
   "cell_type": "code",
   "execution_count": 153,
   "metadata": {},
   "outputs": [
    {
     "name": "stdout",
     "output_type": "stream",
     "text": [
      "The RMSE : 1.153313079088208\n"
     ]
    }
   ],
   "source": [
    "## Compute the error between actual and predicted values\n",
    "from sklearn.metrics import mean_squared_error\n",
    "print(\"The RMSE : {}\".format(mean_squared_error(y_test,predict_test)))"
   ]
  },
  {
   "cell_type": "code",
   "execution_count": 154,
   "metadata": {},
   "outputs": [
    {
     "name": "stdout",
     "output_type": "stream",
     "text": [
      "R-squared : 0.4212190489026999\n"
     ]
    }
   ],
   "source": [
    "from sklearn.metrics import r2_score\n",
    "print(\"R-squared : {}\".format(r2_score(y_test,predict_test)))"
   ]
  },
  {
   "cell_type": "code",
   "execution_count": 159,
   "metadata": {},
   "outputs": [
    {
     "data": {
      "text/html": [
       "<div>\n",
       "<style scoped>\n",
       "    .dataframe tbody tr th:only-of-type {\n",
       "        vertical-align: middle;\n",
       "    }\n",
       "\n",
       "    .dataframe tbody tr th {\n",
       "        vertical-align: top;\n",
       "    }\n",
       "\n",
       "    .dataframe thead th {\n",
       "        text-align: right;\n",
       "    }\n",
       "</style>\n",
       "<table border=\"1\" class=\"dataframe\">\n",
       "  <thead>\n",
       "    <tr style=\"text-align: right;\">\n",
       "      <th></th>\n",
       "      <th>Feature</th>\n",
       "      <th>Importances</th>\n",
       "    </tr>\n",
       "  </thead>\n",
       "  <tbody>\n",
       "    <tr>\n",
       "      <th>11</th>\n",
       "      <td>total_wishers</td>\n",
       "      <td>0.266055</td>\n",
       "    </tr>\n",
       "    <tr>\n",
       "      <th>0</th>\n",
       "      <td>yearpublished</td>\n",
       "      <td>0.112434</td>\n",
       "    </tr>\n",
       "    <tr>\n",
       "      <th>8</th>\n",
       "      <td>total_owners</td>\n",
       "      <td>0.091486</td>\n",
       "    </tr>\n",
       "    <tr>\n",
       "      <th>14</th>\n",
       "      <td>average_weight</td>\n",
       "      <td>0.080460</td>\n",
       "    </tr>\n",
       "    <tr>\n",
       "      <th>10</th>\n",
       "      <td>total_wanters</td>\n",
       "      <td>0.072278</td>\n",
       "    </tr>\n",
       "    <tr>\n",
       "      <th>6</th>\n",
       "      <td>minage</td>\n",
       "      <td>0.055087</td>\n",
       "    </tr>\n",
       "    <tr>\n",
       "      <th>2</th>\n",
       "      <td>maxplayers</td>\n",
       "      <td>0.054033</td>\n",
       "    </tr>\n",
       "    <tr>\n",
       "      <th>7</th>\n",
       "      <td>users_rated</td>\n",
       "      <td>0.052832</td>\n",
       "    </tr>\n",
       "    <tr>\n",
       "      <th>12</th>\n",
       "      <td>total_comments</td>\n",
       "      <td>0.049912</td>\n",
       "    </tr>\n",
       "    <tr>\n",
       "      <th>9</th>\n",
       "      <td>total_traders</td>\n",
       "      <td>0.041578</td>\n",
       "    </tr>\n",
       "    <tr>\n",
       "      <th>4</th>\n",
       "      <td>minplaytime</td>\n",
       "      <td>0.028062</td>\n",
       "    </tr>\n",
       "    <tr>\n",
       "      <th>5</th>\n",
       "      <td>maxplaytime</td>\n",
       "      <td>0.026588</td>\n",
       "    </tr>\n",
       "    <tr>\n",
       "      <th>3</th>\n",
       "      <td>playingtime</td>\n",
       "      <td>0.026547</td>\n",
       "    </tr>\n",
       "    <tr>\n",
       "      <th>1</th>\n",
       "      <td>minplayers</td>\n",
       "      <td>0.024596</td>\n",
       "    </tr>\n",
       "    <tr>\n",
       "      <th>13</th>\n",
       "      <td>total_weights</td>\n",
       "      <td>0.018052</td>\n",
       "    </tr>\n",
       "  </tbody>\n",
       "</table>\n",
       "</div>"
      ],
      "text/plain": [
       "           Feature  Importances\n",
       "11   total_wishers     0.266055\n",
       "0    yearpublished     0.112434\n",
       "8     total_owners     0.091486\n",
       "14  average_weight     0.080460\n",
       "10   total_wanters     0.072278\n",
       "6           minage     0.055087\n",
       "2       maxplayers     0.054033\n",
       "7      users_rated     0.052832\n",
       "12  total_comments     0.049912\n",
       "9    total_traders     0.041578\n",
       "4      minplaytime     0.028062\n",
       "5      maxplaytime     0.026588\n",
       "3      playingtime     0.026547\n",
       "1       minplayers     0.024596\n",
       "13   total_weights     0.018052"
      ]
     },
     "execution_count": 159,
     "metadata": {},
     "output_type": "execute_result"
    }
   ],
   "source": [
    "### Now select the relevant features\n",
    "\n",
    "df = pd.DataFrame({\"Feature\": cols,\"Importances\":RFR.feature_importances_})\n",
    "df.sort_values(by=['Importances'],ascending=False)"
   ]
  },
  {
   "cell_type": "code",
   "execution_count": 156,
   "metadata": {},
   "outputs": [
    {
     "data": {
      "text/plain": [
       "RFE(estimator=RandomForestRegressor(bootstrap=True, criterion='mse', max_depth=None,\n",
       "           max_features='auto', max_leaf_nodes=None,\n",
       "           min_impurity_decrease=0.0, min_impurity_split=None,\n",
       "           min_samples_leaf=1, min_samples_split=2,\n",
       "           min_weight_fraction_leaf=0.0, n_estimators=100, n_jobs=None,\n",
       "           oob_score=False, random_state=12345, verbose=0,\n",
       "           warm_start=False),\n",
       "  n_features_to_select=None, step=1, verbose=0)"
      ]
     },
     "execution_count": 156,
     "metadata": {},
     "output_type": "execute_result"
    }
   ],
   "source": [
    "### Feature selection using RFE\n",
    "from sklearn.feature_selection import RFE\n",
    "selector = RFE(RFR)\n",
    "selector.fit(x,y)"
   ]
  },
  {
   "cell_type": "code",
   "execution_count": 157,
   "metadata": {},
   "outputs": [
    {
     "data": {
      "text/plain": [
       "array([ True, False, False, False,  True, False, False,  True,  True,\n",
       "       False,  True,  True, False, False,  True])"
      ]
     },
     "execution_count": 157,
     "metadata": {},
     "output_type": "execute_result"
    }
   ],
   "source": [
    "selector.support_"
   ]
  },
  {
   "cell_type": "code",
   "execution_count": 158,
   "metadata": {},
   "outputs": [
    {
     "data": {
      "text/plain": [
       "array([1, 8, 2, 7, 1, 6, 4, 1, 1, 5, 1, 1, 3, 9, 1])"
      ]
     },
     "execution_count": 158,
     "metadata": {},
     "output_type": "execute_result"
    }
   ],
   "source": [
    "selector.ranking_"
   ]
  },
  {
   "cell_type": "code",
   "execution_count": 119,
   "metadata": {},
   "outputs": [
    {
     "data": {
      "text/plain": [
       "array([ True, False, False, False,  True, False, False,  True,  True,\n",
       "       False,  True,  True, False, False,  True])"
      ]
     },
     "execution_count": 119,
     "metadata": {},
     "output_type": "execute_result"
    }
   ],
   "source": [
    "selector.get_support()"
   ]
  },
  {
   "cell_type": "code",
   "execution_count": 121,
   "metadata": {},
   "outputs": [
    {
     "data": {
      "text/html": [
       "<div>\n",
       "<style scoped>\n",
       "    .dataframe tbody tr th:only-of-type {\n",
       "        vertical-align: middle;\n",
       "    }\n",
       "\n",
       "    .dataframe tbody tr th {\n",
       "        vertical-align: top;\n",
       "    }\n",
       "\n",
       "    .dataframe thead th {\n",
       "        text-align: right;\n",
       "    }\n",
       "</style>\n",
       "<table border=\"1\" class=\"dataframe\">\n",
       "  <thead>\n",
       "    <tr style=\"text-align: right;\">\n",
       "      <th></th>\n",
       "      <th>feature</th>\n",
       "      <th>Ranking</th>\n",
       "    </tr>\n",
       "  </thead>\n",
       "  <tbody>\n",
       "    <tr>\n",
       "      <th>0</th>\n",
       "      <td>yearpublished</td>\n",
       "      <td>1</td>\n",
       "    </tr>\n",
       "    <tr>\n",
       "      <th>4</th>\n",
       "      <td>minplaytime</td>\n",
       "      <td>1</td>\n",
       "    </tr>\n",
       "    <tr>\n",
       "      <th>7</th>\n",
       "      <td>users_rated</td>\n",
       "      <td>1</td>\n",
       "    </tr>\n",
       "    <tr>\n",
       "      <th>8</th>\n",
       "      <td>total_owners</td>\n",
       "      <td>1</td>\n",
       "    </tr>\n",
       "    <tr>\n",
       "      <th>10</th>\n",
       "      <td>total_wanters</td>\n",
       "      <td>1</td>\n",
       "    </tr>\n",
       "    <tr>\n",
       "      <th>11</th>\n",
       "      <td>total_wishers</td>\n",
       "      <td>1</td>\n",
       "    </tr>\n",
       "    <tr>\n",
       "      <th>14</th>\n",
       "      <td>average_weight</td>\n",
       "      <td>1</td>\n",
       "    </tr>\n",
       "    <tr>\n",
       "      <th>2</th>\n",
       "      <td>maxplayers</td>\n",
       "      <td>2</td>\n",
       "    </tr>\n",
       "    <tr>\n",
       "      <th>12</th>\n",
       "      <td>total_comments</td>\n",
       "      <td>3</td>\n",
       "    </tr>\n",
       "    <tr>\n",
       "      <th>6</th>\n",
       "      <td>minage</td>\n",
       "      <td>4</td>\n",
       "    </tr>\n",
       "    <tr>\n",
       "      <th>9</th>\n",
       "      <td>total_traders</td>\n",
       "      <td>5</td>\n",
       "    </tr>\n",
       "    <tr>\n",
       "      <th>5</th>\n",
       "      <td>maxplaytime</td>\n",
       "      <td>6</td>\n",
       "    </tr>\n",
       "    <tr>\n",
       "      <th>3</th>\n",
       "      <td>playingtime</td>\n",
       "      <td>7</td>\n",
       "    </tr>\n",
       "    <tr>\n",
       "      <th>1</th>\n",
       "      <td>minplayers</td>\n",
       "      <td>8</td>\n",
       "    </tr>\n",
       "    <tr>\n",
       "      <th>13</th>\n",
       "      <td>total_weights</td>\n",
       "      <td>9</td>\n",
       "    </tr>\n",
       "  </tbody>\n",
       "</table>\n",
       "</div>"
      ],
      "text/plain": [
       "           feature  Ranking\n",
       "0    yearpublished        1\n",
       "4      minplaytime        1\n",
       "7      users_rated        1\n",
       "8     total_owners        1\n",
       "10   total_wanters        1\n",
       "11   total_wishers        1\n",
       "14  average_weight        1\n",
       "2       maxplayers        2\n",
       "12  total_comments        3\n",
       "6           minage        4\n",
       "9    total_traders        5\n",
       "5      maxplaytime        6\n",
       "3      playingtime        7\n",
       "1       minplayers        8\n",
       "13   total_weights        9"
      ]
     },
     "execution_count": 121,
     "metadata": {},
     "output_type": "execute_result"
    }
   ],
   "source": [
    "df = pd.DataFrame({\"feature\":cols,\"Ranking\":selector.ranking_})\n",
    "df = df.sort_values(by=['Ranking'])\n",
    "df"
   ]
  },
  {
   "cell_type": "code",
   "execution_count": 125,
   "metadata": {},
   "outputs": [],
   "source": [
    "cols_RFE = ['yearpublished','minplaytime','users_rated','total_owners','total_wanters','average_weight']\n",
    "target = 'average_rating'\n",
    "\n",
    "x_train = train[cols_RFE]\n",
    "y_train = train[target]\n",
    "x_test = test[cols_RFE]\n",
    "y_test = test[target]"
   ]
  },
  {
   "cell_type": "code",
   "execution_count": null,
   "metadata": {},
   "outputs": [],
   "source": []
  },
  {
   "cell_type": "code",
   "execution_count": 126,
   "metadata": {},
   "outputs": [
    {
     "data": {
      "text/plain": [
       "RandomForestRegressor(bootstrap=True, criterion='mse', max_depth=None,\n",
       "           max_features='auto', max_leaf_nodes=None,\n",
       "           min_impurity_decrease=0.0, min_impurity_split=None,\n",
       "           min_samples_leaf=1, min_samples_split=2,\n",
       "           min_weight_fraction_leaf=0.0, n_estimators=100, n_jobs=None,\n",
       "           oob_score=False, random_state=12345, verbose=0,\n",
       "           warm_start=False)"
      ]
     },
     "execution_count": 126,
     "metadata": {},
     "output_type": "execute_result"
    }
   ],
   "source": [
    "randomForest = RandomForestRegressor(n_estimators =100 ,random_state=12345)\n",
    "randomForest.fit(x_train,y_train)"
   ]
  },
  {
   "cell_type": "code",
   "execution_count": 127,
   "metadata": {},
   "outputs": [],
   "source": [
    "pred_test = randomForest.predict(x_test)"
   ]
  },
  {
   "cell_type": "code",
   "execution_count": 128,
   "metadata": {},
   "outputs": [
    {
     "name": "stdout",
     "output_type": "stream",
     "text": [
      "RMSE after feature selection: 1.3622750803068244\n"
     ]
    }
   ],
   "source": [
    "print(\"RMSE after feature selection: {}\".format(mean_squared_error(y_test,pred_test)))"
   ]
  },
  {
   "cell_type": "code",
   "execution_count": 129,
   "metadata": {},
   "outputs": [
    {
     "name": "stdout",
     "output_type": "stream",
     "text": [
      "R-squared after feature selection : 0.3163531386815812\n"
     ]
    }
   ],
   "source": [
    "print(\"R-squared after feature selection : {}\".format(r2_score(y_test,pred_test)))"
   ]
  },
  {
   "cell_type": "code",
   "execution_count": 160,
   "metadata": {},
   "outputs": [],
   "source": [
    "### Feature selection using Random Forest\n",
    "\n",
    "cols_RFR = ['total_wishers','yearpublished','total_owners','average_weight','total_wanters','minage','maxplayers','users_rated']\n",
    "\n",
    "x_train  =train[cols_RFR]\n",
    "y_train = train['average_rating']\n",
    "\n",
    "\n",
    "x_test  =test[cols_RFR]\n",
    "y_test = test['average_rating']"
   ]
  },
  {
   "cell_type": "code",
   "execution_count": 161,
   "metadata": {},
   "outputs": [
    {
     "data": {
      "text/plain": [
       "RandomForestRegressor(bootstrap=True, criterion='mse', max_depth=None,\n",
       "           max_features='auto', max_leaf_nodes=None,\n",
       "           min_impurity_decrease=0.0, min_impurity_split=None,\n",
       "           min_samples_leaf=1, min_samples_split=2,\n",
       "           min_weight_fraction_leaf=0.0, n_estimators=100, n_jobs=None,\n",
       "           oob_score=False, random_state=12345, verbose=0,\n",
       "           warm_start=False)"
      ]
     },
     "execution_count": 161,
     "metadata": {},
     "output_type": "execute_result"
    }
   ],
   "source": [
    "randomForest.fit(x_train,y_train)"
   ]
  },
  {
   "cell_type": "code",
   "execution_count": 162,
   "metadata": {},
   "outputs": [],
   "source": [
    "pred_2 = randomForest.predict(x_test)"
   ]
  },
  {
   "cell_type": "code",
   "execution_count": 163,
   "metadata": {},
   "outputs": [
    {
     "name": "stdout",
     "output_type": "stream",
     "text": [
      "RMSE : 1.2629573274606636\n"
     ]
    }
   ],
   "source": [
    "print(\"RMSE : {}\".format(mean_squared_error(y_test,pred_2)))"
   ]
  },
  {
   "cell_type": "code",
   "execution_count": 164,
   "metadata": {},
   "outputs": [
    {
     "name": "stdout",
     "output_type": "stream",
     "text": [
      "R-squared : 0.3661949591685152\n"
     ]
    }
   ],
   "source": [
    "print(\"R-squared : {}\".format(r2_score(y_test,pred_2)))"
   ]
  },
  {
   "cell_type": "code",
   "execution_count": 165,
   "metadata": {},
   "outputs": [],
   "source": [
    "### PCA\n",
    "\n",
    "from sklearn.decomposition import PCA\n",
    "pca = PCA"
   ]
  },
  {
   "cell_type": "code",
   "execution_count": null,
   "metadata": {},
   "outputs": [],
   "source": []
  }
 ],
 "metadata": {
  "kernelspec": {
   "display_name": "Python 3",
   "language": "python",
   "name": "python3"
  },
  "language_info": {
   "codemirror_mode": {
    "name": "ipython",
    "version": 3
   },
   "file_extension": ".py",
   "mimetype": "text/x-python",
   "name": "python",
   "nbconvert_exporter": "python",
   "pygments_lexer": "ipython3",
   "version": "3.7.1"
  }
 },
 "nbformat": 4,
 "nbformat_minor": 2
}
